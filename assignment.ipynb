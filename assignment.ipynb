{
 "cells": [
  {
   "cell_type": "code",
   "execution_count": 1,
   "metadata": {},
   "outputs": [],
   "source": [
    "import pandas as pd\n",
    "import pylab as pl\n",
    "import numpy as np\n",
    "from sklearn.linear_model import LinearRegression"
   ]
  },
  {
   "cell_type": "code",
   "execution_count": 2,
   "metadata": {},
   "outputs": [],
   "source": [
    "columns_df = pd.read_csv('green_tripdata_2016-12.csv', nrows = 1)"
   ]
  },
  {
   "cell_type": "code",
   "execution_count": 3,
   "metadata": {},
   "outputs": [],
   "source": [
    "dtypes = {\n",
    "    'VendorID': 'category',\n",
    "    'store_and_fwd_flag': 'category',\n",
    "    'RatecodeID': 'category',\n",
    "    'PULocationID': 'category',\n",
    "    'DOLocationID': 'category',\n",
    "    'extra': 'category',\n",
    "    'mta_tax': 'category',\n",
    "    'improvement_surcharge': 'category',\n",
    "    'payment_type': 'category',\n",
    "    'trip_type': 'category',\n",
    "}"
   ]
  },
  {
   "cell_type": "code",
   "execution_count": 4,
   "metadata": {},
   "outputs": [],
   "source": [
    "df = pd.read_csv(\n",
    "    'green_tripdata_2016-12.csv',\n",
    "    header=None,\n",
    "    skiprows=1,\n",
    "    usecols = list(range(len(columns_df.columns))),\n",
    "    names=columns_df.columns,\n",
    "    dtype=dtypes,\n",
    "    parse_dates=['lpep_pickup_datetime', 'lpep_dropoff_datetime']\n",
    ")"
   ]
  },
  {
   "cell_type": "code",
   "execution_count": 5,
   "metadata": {},
   "outputs": [
    {
     "data": {
      "text/plain": [
       "VendorID                       category\n",
       "lpep_pickup_datetime     datetime64[ns]\n",
       "lpep_dropoff_datetime    datetime64[ns]\n",
       "store_and_fwd_flag             category\n",
       "RatecodeID                     category\n",
       "PULocationID                   category\n",
       "DOLocationID                   category\n",
       "passenger_count                   int64\n",
       "trip_distance                   float64\n",
       "fare_amount                     float64\n",
       "extra                          category\n",
       "mta_tax                        category\n",
       "tip_amount                      float64\n",
       "tolls_amount                    float64\n",
       "ehail_fee                       float64\n",
       "improvement_surcharge          category\n",
       "total_amount                    float64\n",
       "payment_type                   category\n",
       "trip_type                      category\n",
       "dtype: object"
      ]
     },
     "execution_count": 5,
     "metadata": {},
     "output_type": "execute_result"
    }
   ],
   "source": [
    "df.dtypes"
   ]
  },
  {
   "cell_type": "code",
   "execution_count": 6,
   "metadata": {},
   "outputs": [
    {
     "data": {
      "text/plain": [
       "(1224158, 19)"
      ]
     },
     "execution_count": 6,
     "metadata": {},
     "output_type": "execute_result"
    }
   ],
   "source": [
    "df.shape"
   ]
  },
  {
   "cell_type": "code",
   "execution_count": 7,
   "metadata": {},
   "outputs": [
    {
     "data": {
      "text/html": [
       "<div>\n",
       "<style scoped>\n",
       "    .dataframe tbody tr th:only-of-type {\n",
       "        vertical-align: middle;\n",
       "    }\n",
       "\n",
       "    .dataframe tbody tr th {\n",
       "        vertical-align: top;\n",
       "    }\n",
       "\n",
       "    .dataframe thead th {\n",
       "        text-align: right;\n",
       "    }\n",
       "</style>\n",
       "<table border=\"1\" class=\"dataframe\">\n",
       "  <thead>\n",
       "    <tr style=\"text-align: right;\">\n",
       "      <th></th>\n",
       "      <th>VendorID</th>\n",
       "      <th>lpep_pickup_datetime</th>\n",
       "      <th>lpep_dropoff_datetime</th>\n",
       "      <th>store_and_fwd_flag</th>\n",
       "      <th>RatecodeID</th>\n",
       "      <th>PULocationID</th>\n",
       "      <th>DOLocationID</th>\n",
       "      <th>passenger_count</th>\n",
       "      <th>trip_distance</th>\n",
       "      <th>fare_amount</th>\n",
       "      <th>extra</th>\n",
       "      <th>mta_tax</th>\n",
       "      <th>tip_amount</th>\n",
       "      <th>tolls_amount</th>\n",
       "      <th>ehail_fee</th>\n",
       "      <th>improvement_surcharge</th>\n",
       "      <th>total_amount</th>\n",
       "      <th>payment_type</th>\n",
       "      <th>trip_type</th>\n",
       "    </tr>\n",
       "  </thead>\n",
       "  <tbody>\n",
       "    <tr>\n",
       "      <th>0</th>\n",
       "      <td>2</td>\n",
       "      <td>2016-12-01 00:00:54</td>\n",
       "      <td>2016-12-01 00:06:54</td>\n",
       "      <td>N</td>\n",
       "      <td>1</td>\n",
       "      <td>92</td>\n",
       "      <td>192</td>\n",
       "      <td>1</td>\n",
       "      <td>1.29</td>\n",
       "      <td>6.5</td>\n",
       "      <td>0.5</td>\n",
       "      <td>0.5</td>\n",
       "      <td>0.00</td>\n",
       "      <td>0.0</td>\n",
       "      <td>NaN</td>\n",
       "      <td>0.3</td>\n",
       "      <td>7.80</td>\n",
       "      <td>2</td>\n",
       "      <td>1</td>\n",
       "    </tr>\n",
       "    <tr>\n",
       "      <th>1</th>\n",
       "      <td>2</td>\n",
       "      <td>2016-12-01 00:52:41</td>\n",
       "      <td>2016-12-01 00:54:51</td>\n",
       "      <td>N</td>\n",
       "      <td>1</td>\n",
       "      <td>92</td>\n",
       "      <td>171</td>\n",
       "      <td>1</td>\n",
       "      <td>0.64</td>\n",
       "      <td>4.0</td>\n",
       "      <td>0.5</td>\n",
       "      <td>0.5</td>\n",
       "      <td>1.06</td>\n",
       "      <td>0.0</td>\n",
       "      <td>NaN</td>\n",
       "      <td>0.3</td>\n",
       "      <td>6.36</td>\n",
       "      <td>1</td>\n",
       "      <td>1</td>\n",
       "    </tr>\n",
       "    <tr>\n",
       "      <th>2</th>\n",
       "      <td>2</td>\n",
       "      <td>2016-12-01 00:10:39</td>\n",
       "      <td>2016-12-01 00:14:47</td>\n",
       "      <td>N</td>\n",
       "      <td>1</td>\n",
       "      <td>75</td>\n",
       "      <td>238</td>\n",
       "      <td>2</td>\n",
       "      <td>0.89</td>\n",
       "      <td>5.5</td>\n",
       "      <td>0.5</td>\n",
       "      <td>0.5</td>\n",
       "      <td>1.70</td>\n",
       "      <td>0.0</td>\n",
       "      <td>NaN</td>\n",
       "      <td>0.3</td>\n",
       "      <td>8.50</td>\n",
       "      <td>1</td>\n",
       "      <td>1</td>\n",
       "    </tr>\n",
       "    <tr>\n",
       "      <th>3</th>\n",
       "      <td>2</td>\n",
       "      <td>2016-12-01 00:12:16</td>\n",
       "      <td>2016-12-01 00:15:31</td>\n",
       "      <td>N</td>\n",
       "      <td>1</td>\n",
       "      <td>166</td>\n",
       "      <td>151</td>\n",
       "      <td>1</td>\n",
       "      <td>0.66</td>\n",
       "      <td>4.5</td>\n",
       "      <td>0.5</td>\n",
       "      <td>0.5</td>\n",
       "      <td>1.74</td>\n",
       "      <td>0.0</td>\n",
       "      <td>NaN</td>\n",
       "      <td>0.3</td>\n",
       "      <td>7.54</td>\n",
       "      <td>1</td>\n",
       "      <td>1</td>\n",
       "    </tr>\n",
       "    <tr>\n",
       "      <th>4</th>\n",
       "      <td>2</td>\n",
       "      <td>2016-12-01 00:29:22</td>\n",
       "      <td>2016-12-01 00:39:51</td>\n",
       "      <td>N</td>\n",
       "      <td>1</td>\n",
       "      <td>166</td>\n",
       "      <td>42</td>\n",
       "      <td>1</td>\n",
       "      <td>2.15</td>\n",
       "      <td>9.5</td>\n",
       "      <td>0.5</td>\n",
       "      <td>0.5</td>\n",
       "      <td>2.16</td>\n",
       "      <td>0.0</td>\n",
       "      <td>NaN</td>\n",
       "      <td>0.3</td>\n",
       "      <td>12.96</td>\n",
       "      <td>1</td>\n",
       "      <td>1</td>\n",
       "    </tr>\n",
       "  </tbody>\n",
       "</table>\n",
       "</div>"
      ],
      "text/plain": [
       "  VendorID lpep_pickup_datetime lpep_dropoff_datetime store_and_fwd_flag  \\\n",
       "0        2  2016-12-01 00:00:54   2016-12-01 00:06:54                  N   \n",
       "1        2  2016-12-01 00:52:41   2016-12-01 00:54:51                  N   \n",
       "2        2  2016-12-01 00:10:39   2016-12-01 00:14:47                  N   \n",
       "3        2  2016-12-01 00:12:16   2016-12-01 00:15:31                  N   \n",
       "4        2  2016-12-01 00:29:22   2016-12-01 00:39:51                  N   \n",
       "\n",
       "  RatecodeID PULocationID DOLocationID  passenger_count  trip_distance  \\\n",
       "0          1           92          192                1           1.29   \n",
       "1          1           92          171                1           0.64   \n",
       "2          1           75          238                2           0.89   \n",
       "3          1          166          151                1           0.66   \n",
       "4          1          166           42                1           2.15   \n",
       "\n",
       "   fare_amount extra mta_tax  tip_amount  tolls_amount  ehail_fee  \\\n",
       "0          6.5   0.5     0.5        0.00           0.0        NaN   \n",
       "1          4.0   0.5     0.5        1.06           0.0        NaN   \n",
       "2          5.5   0.5     0.5        1.70           0.0        NaN   \n",
       "3          4.5   0.5     0.5        1.74           0.0        NaN   \n",
       "4          9.5   0.5     0.5        2.16           0.0        NaN   \n",
       "\n",
       "  improvement_surcharge  total_amount payment_type trip_type  \n",
       "0                   0.3          7.80            2         1  \n",
       "1                   0.3          6.36            1         1  \n",
       "2                   0.3          8.50            1         1  \n",
       "3                   0.3          7.54            1         1  \n",
       "4                   0.3         12.96            1         1  "
      ]
     },
     "execution_count": 7,
     "metadata": {},
     "output_type": "execute_result"
    }
   ],
   "source": [
    "df.head()"
   ]
  },
  {
   "cell_type": "markdown",
   "metadata": {},
   "source": [
    "# 1. Characterize the data and comment about its quality "
   ]
  },
  {
   "cell_type": "code",
   "execution_count": 8,
   "metadata": {},
   "outputs": [
    {
     "data": {
      "text/html": [
       "<div>\n",
       "<style scoped>\n",
       "    .dataframe tbody tr th:only-of-type {\n",
       "        vertical-align: middle;\n",
       "    }\n",
       "\n",
       "    .dataframe tbody tr th {\n",
       "        vertical-align: top;\n",
       "    }\n",
       "\n",
       "    .dataframe thead th {\n",
       "        text-align: right;\n",
       "    }\n",
       "</style>\n",
       "<table border=\"1\" class=\"dataframe\">\n",
       "  <thead>\n",
       "    <tr style=\"text-align: right;\">\n",
       "      <th></th>\n",
       "      <th>passenger_count</th>\n",
       "      <th>trip_distance</th>\n",
       "      <th>fare_amount</th>\n",
       "      <th>tip_amount</th>\n",
       "      <th>tolls_amount</th>\n",
       "      <th>ehail_fee</th>\n",
       "      <th>total_amount</th>\n",
       "    </tr>\n",
       "  </thead>\n",
       "  <tbody>\n",
       "    <tr>\n",
       "      <th>count</th>\n",
       "      <td>1.224158e+06</td>\n",
       "      <td>1.224158e+06</td>\n",
       "      <td>1.224158e+06</td>\n",
       "      <td>1.224158e+06</td>\n",
       "      <td>1.224158e+06</td>\n",
       "      <td>0.0</td>\n",
       "      <td>1.224158e+06</td>\n",
       "    </tr>\n",
       "    <tr>\n",
       "      <th>mean</th>\n",
       "      <td>1.362447e+00</td>\n",
       "      <td>2.618179e+00</td>\n",
       "      <td>1.159368e+01</td>\n",
       "      <td>1.128787e+00</td>\n",
       "      <td>9.456725e-02</td>\n",
       "      <td>NaN</td>\n",
       "      <td>1.399902e+01</td>\n",
       "    </tr>\n",
       "    <tr>\n",
       "      <th>std</th>\n",
       "      <td>1.036924e+00</td>\n",
       "      <td>2.806160e+00</td>\n",
       "      <td>9.793499e+00</td>\n",
       "      <td>2.216306e+00</td>\n",
       "      <td>8.808537e-01</td>\n",
       "      <td>NaN</td>\n",
       "      <td>1.112872e+01</td>\n",
       "    </tr>\n",
       "    <tr>\n",
       "      <th>min</th>\n",
       "      <td>0.000000e+00</td>\n",
       "      <td>0.000000e+00</td>\n",
       "      <td>-4.990000e+02</td>\n",
       "      <td>-1.056000e+01</td>\n",
       "      <td>-8.540000e+00</td>\n",
       "      <td>NaN</td>\n",
       "      <td>-4.990000e+02</td>\n",
       "    </tr>\n",
       "    <tr>\n",
       "      <th>25%</th>\n",
       "      <td>1.000000e+00</td>\n",
       "      <td>9.800000e-01</td>\n",
       "      <td>6.000000e+00</td>\n",
       "      <td>0.000000e+00</td>\n",
       "      <td>0.000000e+00</td>\n",
       "      <td>NaN</td>\n",
       "      <td>7.800000e+00</td>\n",
       "    </tr>\n",
       "    <tr>\n",
       "      <th>50%</th>\n",
       "      <td>1.000000e+00</td>\n",
       "      <td>1.700000e+00</td>\n",
       "      <td>9.000000e+00</td>\n",
       "      <td>0.000000e+00</td>\n",
       "      <td>0.000000e+00</td>\n",
       "      <td>NaN</td>\n",
       "      <td>1.080000e+01</td>\n",
       "    </tr>\n",
       "    <tr>\n",
       "      <th>75%</th>\n",
       "      <td>1.000000e+00</td>\n",
       "      <td>3.200000e+00</td>\n",
       "      <td>1.400000e+01</td>\n",
       "      <td>1.860000e+00</td>\n",
       "      <td>0.000000e+00</td>\n",
       "      <td>NaN</td>\n",
       "      <td>1.656000e+01</td>\n",
       "    </tr>\n",
       "    <tr>\n",
       "      <th>max</th>\n",
       "      <td>9.000000e+00</td>\n",
       "      <td>1.475000e+02</td>\n",
       "      <td>1.007000e+03</td>\n",
       "      <td>2.507000e+02</td>\n",
       "      <td>2.979800e+02</td>\n",
       "      <td>NaN</td>\n",
       "      <td>1.008300e+03</td>\n",
       "    </tr>\n",
       "  </tbody>\n",
       "</table>\n",
       "</div>"
      ],
      "text/plain": [
       "       passenger_count  trip_distance   fare_amount    tip_amount  \\\n",
       "count     1.224158e+06   1.224158e+06  1.224158e+06  1.224158e+06   \n",
       "mean      1.362447e+00   2.618179e+00  1.159368e+01  1.128787e+00   \n",
       "std       1.036924e+00   2.806160e+00  9.793499e+00  2.216306e+00   \n",
       "min       0.000000e+00   0.000000e+00 -4.990000e+02 -1.056000e+01   \n",
       "25%       1.000000e+00   9.800000e-01  6.000000e+00  0.000000e+00   \n",
       "50%       1.000000e+00   1.700000e+00  9.000000e+00  0.000000e+00   \n",
       "75%       1.000000e+00   3.200000e+00  1.400000e+01  1.860000e+00   \n",
       "max       9.000000e+00   1.475000e+02  1.007000e+03  2.507000e+02   \n",
       "\n",
       "       tolls_amount  ehail_fee  total_amount  \n",
       "count  1.224158e+06        0.0  1.224158e+06  \n",
       "mean   9.456725e-02        NaN  1.399902e+01  \n",
       "std    8.808537e-01        NaN  1.112872e+01  \n",
       "min   -8.540000e+00        NaN -4.990000e+02  \n",
       "25%    0.000000e+00        NaN  7.800000e+00  \n",
       "50%    0.000000e+00        NaN  1.080000e+01  \n",
       "75%    0.000000e+00        NaN  1.656000e+01  \n",
       "max    2.979800e+02        NaN  1.008300e+03  "
      ]
     },
     "execution_count": 8,
     "metadata": {},
     "output_type": "execute_result"
    }
   ],
   "source": [
    "df.describe()"
   ]
  },
  {
   "cell_type": "code",
   "execution_count": 9,
   "metadata": {},
   "outputs": [
    {
     "data": {
      "text/plain": [
       "VendorID                       0\n",
       "lpep_pickup_datetime           0\n",
       "lpep_dropoff_datetime          0\n",
       "store_and_fwd_flag             0\n",
       "RatecodeID                     0\n",
       "PULocationID                   0\n",
       "DOLocationID                   0\n",
       "passenger_count                0\n",
       "trip_distance                  0\n",
       "fare_amount                    0\n",
       "extra                          0\n",
       "mta_tax                        0\n",
       "tip_amount                     0\n",
       "tolls_amount                   0\n",
       "ehail_fee                1224158\n",
       "improvement_surcharge          0\n",
       "total_amount                   0\n",
       "payment_type                   0\n",
       "trip_type                      0\n",
       "dtype: int64"
      ]
     },
     "execution_count": 9,
     "metadata": {},
     "output_type": "execute_result"
    }
   ],
   "source": [
    "df.isnull().sum()"
   ]
  },
  {
   "cell_type": "code",
   "execution_count": 10,
   "metadata": {},
   "outputs": [
    {
     "data": {
      "text/plain": [
       "VendorID                      2\n",
       "lpep_pickup_datetime     930912\n",
       "lpep_dropoff_datetime    929402\n",
       "store_and_fwd_flag            2\n",
       "RatecodeID                    6\n",
       "PULocationID                241\n",
       "DOLocationID                260\n",
       "passenger_count              10\n",
       "trip_distance              3052\n",
       "fare_amount                 869\n",
       "extra                         9\n",
       "mta_tax                       3\n",
       "tip_amount                 1821\n",
       "tolls_amount                126\n",
       "ehail_fee                     0\n",
       "improvement_surcharge         3\n",
       "total_amount               5815\n",
       "payment_type                  5\n",
       "trip_type                     2\n",
       "dtype: int64"
      ]
     },
     "execution_count": 10,
     "metadata": {},
     "output_type": "execute_result"
    }
   ],
   "source": [
    "df.nunique()"
   ]
  },
  {
   "cell_type": "markdown",
   "metadata": {},
   "source": [
    "- The columns are all either completely missing (ehail_fee) or completely nonmissing (all of the other columns).\n",
    "- There are 2 datetime columns: lpep_pickup_datetime, lpep_dropoff_datetime.\n",
    "- The (non-datetime) continuous features are: trip_distance, fare_amount, tip_amount, tolls_amount, total_amount\n",
    "    + passenger_count should also be modeled as continuous, since it's ordered\n",
    "- The others should be modeled as categorical"
   ]
  },
  {
   "cell_type": "markdown",
   "metadata": {},
   "source": [
    "# 2. Explore and visualize the data e.g. a histogram of trip distance "
   ]
  },
  {
   "cell_type": "code",
   "execution_count": 11,
   "metadata": {},
   "outputs": [
    {
     "data": {
      "text/plain": [
       "Text(0.5, 0.98, 'Trip Distance (Full-Range)')"
      ]
     },
     "execution_count": 11,
     "metadata": {},
     "output_type": "execute_result"
    },
    {
     "data": {
      "image/png": "[encoded data removed]",
      "text/plain": [
       "<Figure size 432x288 with 1 Axes>"
      ]
     },
     "metadata": {
      "needs_background": "light"
     },
     "output_type": "display_data"
    }
   ],
   "source": [
    "df.trip_distance.hist(bins=100)\n",
    "pl.suptitle('Trip Distance (Full-Range)')"
   ]
  },
  {
   "cell_type": "code",
   "execution_count": 12,
   "metadata": {},
   "outputs": [
    {
     "data": {
      "text/plain": [
       "Text(0.5, 0.98, 'Trip Distance (Zoomed-In)')"
      ]
     },
     "execution_count": 12,
     "metadata": {},
     "output_type": "execute_result"
    },
    {
     "data": {
      "image/png": "[encoded data removed]",
      "text/plain": [
       "<Figure size 432x288 with 1 Axes>"
      ]
     },
     "metadata": {
      "needs_background": "light"
     },
     "output_type": "display_data"
    }
   ],
   "source": [
    "zoomed_trip_distance = df.loc[(df.trip_distance >= 0) & (df.trip_distance < 20), 'trip_distance']\n",
    "zoomed_trip_distance.hist(bins=100)\n",
    "pl.suptitle('Trip Distance (Zoomed-In)')"
   ]
  },
  {
   "cell_type": "markdown",
   "metadata": {},
   "source": [
    "- Most trips are short, but there is a fat-tail of long trips\n",
    "- There are some trips that are 0 miles. These might be mistakes, but I'm not sure so I won't delete them for now."
   ]
  },
  {
   "cell_type": "markdown",
   "metadata": {},
   "source": [
    "# 3. Find interesting trip statistics grouped by hour"
   ]
  },
  {
   "cell_type": "code",
   "execution_count": 13,
   "metadata": {},
   "outputs": [
    {
     "data": {
      "text/plain": [
       "<matplotlib.axes._subplots.AxesSubplot at 0x13fdd7c18>"
      ]
     },
     "execution_count": 13,
     "metadata": {},
     "output_type": "execute_result"
    },
    {
     "data": {
      "image/png": "[encoded data removed]",
      "text/plain": [
       "<Figure size 432x288 with 1 Axes>"
      ]
     },
     "metadata": {
      "needs_background": "light"
     },
     "output_type": "display_data"
    }
   ],
   "source": [
    "df.groupby(df.lpep_pickup_datetime.dt.hour).trip_distance.mean().plot(title='Average Trip Distance By Pickup Hour')"
   ]
  },
  {
   "cell_type": "code",
   "execution_count": 14,
   "metadata": {},
   "outputs": [
    {
     "data": {
      "text/plain": [
       "<matplotlib.axes._subplots.AxesSubplot at 0x140178978>"
      ]
     },
     "execution_count": 14,
     "metadata": {},
     "output_type": "execute_result"
    },
    {
     "data": {
      "image/png": "[encoded data removed]",
      "text/plain": [
       "<Figure size 432x288 with 1 Axes>"
      ]
     },
     "metadata": {
      "needs_background": "light"
     },
     "output_type": "display_data"
    }
   ],
   "source": [
    "df.groupby(df.lpep_pickup_datetime.dt.hour).fare_amount.mean().plot(title='Average Fare Amount By Pickup Hour')"
   ]
  },
  {
   "cell_type": "code",
   "execution_count": 15,
   "metadata": {},
   "outputs": [
    {
     "data": {
      "text/plain": [
       "<matplotlib.axes._subplots.AxesSubplot at 0x142f6b4a8>"
      ]
     },
     "execution_count": 15,
     "metadata": {},
     "output_type": "execute_result"
    },
    {
     "data": {
      "image/png": "[encoded data removed]",
      "text/plain": [
       "<Figure size 432x288 with 1 Axes>"
      ]
     },
     "metadata": {
      "needs_background": "light"
     },
     "output_type": "display_data"
    }
   ],
   "source": [
    "df.groupby(df.lpep_pickup_datetime.dt.hour).tip_amount.mean().plot(title='Average Tip By Pickup Hour')"
   ]
  },
  {
   "cell_type": "code",
   "execution_count": 16,
   "metadata": {},
   "outputs": [
    {
     "data": {
      "text/plain": [
       "<matplotlib.axes._subplots.AxesSubplot at 0x144cf0b38>"
      ]
     },
     "execution_count": 16,
     "metadata": {},
     "output_type": "execute_result"
    },
    {
     "data": {
      "image/png": "[encoded data removed]",
      "text/plain": [
       "<Figure size 432x288 with 1 Axes>"
      ]
     },
     "metadata": {
      "needs_background": "light"
     },
     "output_type": "display_data"
    }
   ],
   "source": [
    "df.groupby(df.lpep_pickup_datetime.dt.hour).tolls_amount.mean().plot(title='Average Tolls By Pickup Hour')"
   ]
  },
  {
   "cell_type": "code",
   "execution_count": 17,
   "metadata": {},
   "outputs": [
    {
     "data": {
      "text/plain": [
       "<matplotlib.axes._subplots.AxesSubplot at 0x143da89b0>"
      ]
     },
     "execution_count": 17,
     "metadata": {},
     "output_type": "execute_result"
    },
    {
     "data": {
      "image/png": "[encoded data removed]",
      "text/plain": [
       "<Figure size 432x288 with 1 Axes>"
      ]
     },
     "metadata": {
      "needs_background": "light"
     },
     "output_type": "display_data"
    }
   ],
   "source": [
    "df.groupby(df.lpep_pickup_datetime.dt.hour).total_amount.mean().plot(title='Average Total Amount By Pickup Hour')"
   ]
  },
  {
   "cell_type": "markdown",
   "metadata": {},
   "source": [
    "# 4. The taxi drivers want to know what kind of trip yields better tips. Can you build a model  for them and explain the model? "
   ]
  },
  {
   "cell_type": "markdown",
   "metadata": {},
   "source": [
    "Since we don't care about predictive performance here, but do care about statistical inference and interpretability, linear regression is a good choice."
   ]
  },
  {
   "cell_type": "code",
   "execution_count": 18,
   "metadata": {},
   "outputs": [],
   "source": [
    "# convert datetimes to hour and minute\n",
    "df['pickup_hour'] = df.lpep_pickup_datetime.dt.hour.astype('category')  # treat as categorical\n",
    "df['dropoff_hour'] = df.lpep_dropoff_datetime.dt.hour.astype('category')"
   ]
  },
  {
   "cell_type": "code",
   "execution_count": 19,
   "metadata": {},
   "outputs": [],
   "source": [
    "# create trip_length_s feature for trip length in seconds\n",
    "df['trip_length_s'] = (df.lpep_dropoff_datetime - df.lpep_pickup_datetime).dt.seconds"
   ]
  },
  {
   "cell_type": "code",
   "execution_count": 20,
   "metadata": {},
   "outputs": [],
   "source": [
    "y = df.tip_amount"
   ]
  },
  {
   "cell_type": "code",
   "execution_count": 21,
   "metadata": {},
   "outputs": [],
   "source": [
    "# delete the features that won't be used in the regression\n",
    "X = df.drop(['lpep_pickup_datetime', 'lpep_dropoff_datetime', 'ehail_fee', 'tip_amount', 'total_amount'], axis=1)"
   ]
  },
  {
   "cell_type": "code",
   "execution_count": 22,
   "metadata": {},
   "outputs": [],
   "source": [
    "# consolidate location categories with less than 30 examples into one \"Other\" category (since we won't be able to say much about these categories anyway)\n",
    "value_counts = X.PULocationID.value_counts()\n",
    "mask = value_counts.lt(30)\n",
    "X['PULocationID'] = np.where(X.PULocationID.isin(value_counts[mask].index), 'Other', X.PULocationID)\n",
    "value_counts = X.DOLocationID.value_counts()\n",
    "mask = value_counts.lt(30)\n",
    "X['DOLocationID'] = np.where(X.DOLocationID.isin(value_counts[mask].index), 'Other', X.DOLocationID)"
   ]
  },
  {
   "cell_type": "code",
   "execution_count": 23,
   "metadata": {},
   "outputs": [],
   "source": [
    "# create model matrix by one-hot-encoding the categorical variables\n",
    "X = pd.get_dummies(X, drop_first=True)"
   ]
  },
  {
   "cell_type": "code",
   "execution_count": 24,
   "metadata": {},
   "outputs": [],
   "source": [
    "# solve using sklearn instead of statsmodels to avoid inefficient matrix inversion\n",
    "mod = LinearRegression().fit(X, y)"
   ]
  },
  {
   "cell_type": "code",
   "execution_count": 25,
   "metadata": {},
   "outputs": [],
   "source": [
    "coef_df = pd.DataFrame(['_intercept'] + list(X.columns))"
   ]
  },
  {
   "cell_type": "code",
   "execution_count": 26,
   "metadata": {},
   "outputs": [],
   "source": [
    "coefs = [mod.intercept_] + mod.coef_.tolist()"
   ]
  },
  {
   "cell_type": "code",
   "execution_count": 27,
   "metadata": {},
   "outputs": [],
   "source": [
    "coef_df['coef'] = coefs"
   ]
  },
  {
   "cell_type": "markdown",
   "metadata": {},
   "source": [
    "calculate standard errors of the coefs (needed to calculate confidence intervals)\n",
    "- https://stackoverflow.com/a/58357360/6238166"
   ]
  },
  {
   "cell_type": "code",
   "execution_count": 28,
   "metadata": {},
   "outputs": [],
   "source": [
    "N = len(X)\n",
    "p = len(X.columns) + 1\n",
    "X_with_intercept = np.empty(shape=(N, p), dtype=np.float)\n",
    "X_with_intercept[:, 0] = 1\n",
    "X_with_intercept[:, 1:p] = X.values\n",
    "residuals = y - mod.predict(X)\n",
    "residual_sum_of_squares = residuals.T @ residuals\n",
    "sigma_squared_hat = residual_sum_of_squares / (N - p)\n",
    "var_beta_hat = np.linalg.inv(X_with_intercept.T @ X_with_intercept) * sigma_squared_hat\n",
    "standard_errors = [var_beta_hat[i, i] ** 2 for i in range(p)]"
   ]
  },
  {
   "cell_type": "code",
   "execution_count": 29,
   "metadata": {},
   "outputs": [],
   "source": [
    "coef_df['standard_error'] = standard_errors"
   ]
  },
  {
   "cell_type": "code",
   "execution_count": 30,
   "metadata": {},
   "outputs": [],
   "source": [
    "coef_df['lower_bound'] = coef_df.coef - 1.96 * coef_df.standard_error\n",
    "coef_df['upper_bound'] = coef_df.coef + 1.96 * coef_df.standard_error"
   ]
  },
  {
   "cell_type": "code",
   "execution_count": 31,
   "metadata": {},
   "outputs": [],
   "source": [
    "coef_df.rename({0: 'feature'}, axis=1, inplace=True)"
   ]
  },
  {
   "cell_type": "code",
   "execution_count": 32,
   "metadata": {},
   "outputs": [],
   "source": [
    "continuous_features = ['trip_distance', 'fare_amount', 'tolls_amount', 'trip_length_s']"
   ]
  },
  {
   "cell_type": "code",
   "execution_count": 33,
   "metadata": {},
   "outputs": [
    {
     "data": {
      "text/html": [
       "<div>\n",
       "<style scoped>\n",
       "    .dataframe tbody tr th:only-of-type {\n",
       "        vertical-align: middle;\n",
       "    }\n",
       "\n",
       "    .dataframe tbody tr th {\n",
       "        vertical-align: top;\n",
       "    }\n",
       "\n",
       "    .dataframe thead th {\n",
       "        text-align: right;\n",
       "    }\n",
       "</style>\n",
       "<table border=\"1\" class=\"dataframe\">\n",
       "  <thead>\n",
       "    <tr style=\"text-align: right;\">\n",
       "      <th></th>\n",
       "      <th>feature</th>\n",
       "      <th>coef</th>\n",
       "      <th>standard_error</th>\n",
       "      <th>lower_bound</th>\n",
       "      <th>upper_bound</th>\n",
       "    </tr>\n",
       "  </thead>\n",
       "  <tbody>\n",
       "    <tr>\n",
       "      <th>2</th>\n",
       "      <td>trip_distance</td>\n",
       "      <td>0.145051</td>\n",
       "      <td>1.387937e-12</td>\n",
       "      <td>0.145051</td>\n",
       "      <td>0.145051</td>\n",
       "    </tr>\n",
       "    <tr>\n",
       "      <th>3</th>\n",
       "      <td>fare_amount</td>\n",
       "      <td>0.026220</td>\n",
       "      <td>7.700846e-15</td>\n",
       "      <td>0.026220</td>\n",
       "      <td>0.026220</td>\n",
       "    </tr>\n",
       "    <tr>\n",
       "      <th>4</th>\n",
       "      <td>tolls_amount</td>\n",
       "      <td>0.112159</td>\n",
       "      <td>1.496352e-11</td>\n",
       "      <td>0.112159</td>\n",
       "      <td>0.112159</td>\n",
       "    </tr>\n",
       "    <tr>\n",
       "      <th>5</th>\n",
       "      <td>trip_length_s</td>\n",
       "      <td>-0.000003</td>\n",
       "      <td>3.544142e-27</td>\n",
       "      <td>-0.000003</td>\n",
       "      <td>-0.000003</td>\n",
       "    </tr>\n",
       "  </tbody>\n",
       "</table>\n",
       "</div>"
      ],
      "text/plain": [
       "         feature      coef  standard_error  lower_bound  upper_bound\n",
       "2  trip_distance  0.145051    1.387937e-12     0.145051     0.145051\n",
       "3    fare_amount  0.026220    7.700846e-15     0.026220     0.026220\n",
       "4   tolls_amount  0.112159    1.496352e-11     0.112159     0.112159\n",
       "5  trip_length_s -0.000003    3.544142e-27    -0.000003    -0.000003"
      ]
     },
     "execution_count": 33,
     "metadata": {},
     "output_type": "execute_result"
    }
   ],
   "source": [
    "coef_df.loc[coef_df.feature.isin(continuous_features)]"
   ]
  },
  {
   "cell_type": "code",
   "execution_count": 34,
   "metadata": {},
   "outputs": [
    {
     "data": {
      "text/html": [
       "<div>\n",
       "<style scoped>\n",
       "    .dataframe tbody tr th:only-of-type {\n",
       "        vertical-align: middle;\n",
       "    }\n",
       "\n",
       "    .dataframe tbody tr th {\n",
       "        vertical-align: top;\n",
       "    }\n",
       "\n",
       "    .dataframe thead th {\n",
       "        text-align: right;\n",
       "    }\n",
       "</style>\n",
       "<table border=\"1\" class=\"dataframe\">\n",
       "  <thead>\n",
       "    <tr style=\"text-align: right;\">\n",
       "      <th></th>\n",
       "      <th>feature</th>\n",
       "      <th>coef</th>\n",
       "      <th>standard_error</th>\n",
       "      <th>lower_bound</th>\n",
       "      <th>upper_bound</th>\n",
       "    </tr>\n",
       "  </thead>\n",
       "  <tbody>\n",
       "    <tr>\n",
       "      <th>23</th>\n",
       "      <td>PULocationID_122</td>\n",
       "      <td>11.019227</td>\n",
       "      <td>0.007434</td>\n",
       "      <td>11.004655</td>\n",
       "      <td>11.033798</td>\n",
       "    </tr>\n",
       "    <tr>\n",
       "      <th>0</th>\n",
       "      <td>_intercept</td>\n",
       "      <td>7.268486</td>\n",
       "      <td>0.000721</td>\n",
       "      <td>7.267072</td>\n",
       "      <td>7.269900</td>\n",
       "    </tr>\n",
       "    <tr>\n",
       "      <th>86</th>\n",
       "      <td>PULocationID_203</td>\n",
       "      <td>7.207925</td>\n",
       "      <td>0.007158</td>\n",
       "      <td>7.193895</td>\n",
       "      <td>7.221954</td>\n",
       "    </tr>\n",
       "    <tr>\n",
       "      <th>442</th>\n",
       "      <td>mta_tax_0.5</td>\n",
       "      <td>2.153955</td>\n",
       "      <td>0.002753</td>\n",
       "      <td>2.148558</td>\n",
       "      <td>2.159351</td>\n",
       "    </tr>\n",
       "    <tr>\n",
       "      <th>98</th>\n",
       "      <td>PULocationID_218</td>\n",
       "      <td>1.545891</td>\n",
       "      <td>0.002969</td>\n",
       "      <td>1.540071</td>\n",
       "      <td>1.551710</td>\n",
       "    </tr>\n",
       "    <tr>\n",
       "      <th>441</th>\n",
       "      <td>mta_tax_0</td>\n",
       "      <td>1.495675</td>\n",
       "      <td>0.002892</td>\n",
       "      <td>1.490007</td>\n",
       "      <td>1.501344</td>\n",
       "    </tr>\n",
       "    <tr>\n",
       "      <th>78</th>\n",
       "      <td>PULocationID_194</td>\n",
       "      <td>1.292255</td>\n",
       "      <td>0.008411</td>\n",
       "      <td>1.275768</td>\n",
       "      <td>1.308742</td>\n",
       "    </tr>\n",
       "    <tr>\n",
       "      <th>9</th>\n",
       "      <td>RatecodeID_3</td>\n",
       "      <td>1.162391</td>\n",
       "      <td>0.000072</td>\n",
       "      <td>1.162249</td>\n",
       "      <td>1.162533</td>\n",
       "    </tr>\n",
       "    <tr>\n",
       "      <th>37</th>\n",
       "      <td>PULocationID_138</td>\n",
       "      <td>0.924991</td>\n",
       "      <td>0.000989</td>\n",
       "      <td>0.923052</td>\n",
       "      <td>0.926930</td>\n",
       "    </tr>\n",
       "    <tr>\n",
       "      <th>132</th>\n",
       "      <td>PULocationID_265</td>\n",
       "      <td>0.840503</td>\n",
       "      <td>0.000512</td>\n",
       "      <td>0.839498</td>\n",
       "      <td>0.841507</td>\n",
       "    </tr>\n",
       "    <tr>\n",
       "      <th>32</th>\n",
       "      <td>PULocationID_132</td>\n",
       "      <td>0.805868</td>\n",
       "      <td>0.000838</td>\n",
       "      <td>0.804225</td>\n",
       "      <td>0.807511</td>\n",
       "    </tr>\n",
       "    <tr>\n",
       "      <th>438</th>\n",
       "      <td>extra_-4.5</td>\n",
       "      <td>0.781772</td>\n",
       "      <td>0.026305</td>\n",
       "      <td>0.730215</td>\n",
       "      <td>0.833330</td>\n",
       "    </tr>\n",
       "    <tr>\n",
       "      <th>73</th>\n",
       "      <td>PULocationID_19</td>\n",
       "      <td>0.748896</td>\n",
       "      <td>0.012535</td>\n",
       "      <td>0.724328</td>\n",
       "      <td>0.773464</td>\n",
       "    </tr>\n",
       "    <tr>\n",
       "      <th>99</th>\n",
       "      <td>PULocationID_219</td>\n",
       "      <td>0.704825</td>\n",
       "      <td>0.002707</td>\n",
       "      <td>0.699520</td>\n",
       "      <td>0.710130</td>\n",
       "    </tr>\n",
       "    <tr>\n",
       "      <th>449</th>\n",
       "      <td>trip_type_2</td>\n",
       "      <td>0.704383</td>\n",
       "      <td>0.000016</td>\n",
       "      <td>0.704351</td>\n",
       "      <td>0.704415</td>\n",
       "    </tr>\n",
       "    <tr>\n",
       "      <th>437</th>\n",
       "      <td>extra_4.5</td>\n",
       "      <td>0.620681</td>\n",
       "      <td>0.000125</td>\n",
       "      <td>0.620437</td>\n",
       "      <td>0.620926</td>\n",
       "    </tr>\n",
       "    <tr>\n",
       "      <th>8</th>\n",
       "      <td>RatecodeID_2</td>\n",
       "      <td>0.518577</td>\n",
       "      <td>0.000002</td>\n",
       "      <td>0.518574</td>\n",
       "      <td>0.518581</td>\n",
       "    </tr>\n",
       "    <tr>\n",
       "      <th>456</th>\n",
       "      <td>pickup_hour_7</td>\n",
       "      <td>0.397714</td>\n",
       "      <td>0.000005</td>\n",
       "      <td>0.397705</td>\n",
       "      <td>0.397723</td>\n",
       "    </tr>\n",
       "    <tr>\n",
       "      <th>12</th>\n",
       "      <td>RatecodeID_6</td>\n",
       "      <td>0.388578</td>\n",
       "      <td>0.022314</td>\n",
       "      <td>0.344842</td>\n",
       "      <td>0.432313</td>\n",
       "    </tr>\n",
       "    <tr>\n",
       "      <th>457</th>\n",
       "      <td>pickup_hour_8</td>\n",
       "      <td>0.374598</td>\n",
       "      <td>0.000004</td>\n",
       "      <td>0.374590</td>\n",
       "      <td>0.374606</td>\n",
       "    </tr>\n",
       "    <tr>\n",
       "      <th>455</th>\n",
       "      <td>pickup_hour_6</td>\n",
       "      <td>0.299576</td>\n",
       "      <td>0.000005</td>\n",
       "      <td>0.299565</td>\n",
       "      <td>0.299586</td>\n",
       "    </tr>\n",
       "    <tr>\n",
       "      <th>458</th>\n",
       "      <td>pickup_hour_9</td>\n",
       "      <td>0.291686</td>\n",
       "      <td>0.000004</td>\n",
       "      <td>0.291678</td>\n",
       "      <td>0.291693</td>\n",
       "    </tr>\n",
       "    <tr>\n",
       "      <th>454</th>\n",
       "      <td>pickup_hour_5</td>\n",
       "      <td>0.223349</td>\n",
       "      <td>0.000005</td>\n",
       "      <td>0.223340</td>\n",
       "      <td>0.223359</td>\n",
       "    </tr>\n",
       "    <tr>\n",
       "      <th>459</th>\n",
       "      <td>pickup_hour_10</td>\n",
       "      <td>0.219054</td>\n",
       "      <td>0.000003</td>\n",
       "      <td>0.219047</td>\n",
       "      <td>0.219060</td>\n",
       "    </tr>\n",
       "    <tr>\n",
       "      <th>463</th>\n",
       "      <td>pickup_hour_14</td>\n",
       "      <td>0.195957</td>\n",
       "      <td>0.000002</td>\n",
       "      <td>0.195953</td>\n",
       "      <td>0.195961</td>\n",
       "    </tr>\n",
       "  </tbody>\n",
       "</table>\n",
       "</div>"
      ],
      "text/plain": [
       "              feature       coef  standard_error  lower_bound  upper_bound\n",
       "23   PULocationID_122  11.019227        0.007434    11.004655    11.033798\n",
       "0          _intercept   7.268486        0.000721     7.267072     7.269900\n",
       "86   PULocationID_203   7.207925        0.007158     7.193895     7.221954\n",
       "442       mta_tax_0.5   2.153955        0.002753     2.148558     2.159351\n",
       "98   PULocationID_218   1.545891        0.002969     1.540071     1.551710\n",
       "441         mta_tax_0   1.495675        0.002892     1.490007     1.501344\n",
       "78   PULocationID_194   1.292255        0.008411     1.275768     1.308742\n",
       "9        RatecodeID_3   1.162391        0.000072     1.162249     1.162533\n",
       "37   PULocationID_138   0.924991        0.000989     0.923052     0.926930\n",
       "132  PULocationID_265   0.840503        0.000512     0.839498     0.841507\n",
       "32   PULocationID_132   0.805868        0.000838     0.804225     0.807511\n",
       "438        extra_-4.5   0.781772        0.026305     0.730215     0.833330\n",
       "73    PULocationID_19   0.748896        0.012535     0.724328     0.773464\n",
       "99   PULocationID_219   0.704825        0.002707     0.699520     0.710130\n",
       "449       trip_type_2   0.704383        0.000016     0.704351     0.704415\n",
       "437         extra_4.5   0.620681        0.000125     0.620437     0.620926\n",
       "8        RatecodeID_2   0.518577        0.000002     0.518574     0.518581\n",
       "456     pickup_hour_7   0.397714        0.000005     0.397705     0.397723\n",
       "12       RatecodeID_6   0.388578        0.022314     0.344842     0.432313\n",
       "457     pickup_hour_8   0.374598        0.000004     0.374590     0.374606\n",
       "455     pickup_hour_6   0.299576        0.000005     0.299565     0.299586\n",
       "458     pickup_hour_9   0.291686        0.000004     0.291678     0.291693\n",
       "454     pickup_hour_5   0.223349        0.000005     0.223340     0.223359\n",
       "459    pickup_hour_10   0.219054        0.000003     0.219047     0.219060\n",
       "463    pickup_hour_14   0.195957        0.000002     0.195953     0.195961"
      ]
     },
     "execution_count": 34,
     "metadata": {},
     "output_type": "execute_result"
    }
   ],
   "source": [
    "# categorical features\n",
    "coef_df.loc[~coef_df.feature.isin(continuous_features)].sort_values('coef', ascending=False)[:25]"
   ]
  },
  {
   "cell_type": "code",
   "execution_count": 35,
   "metadata": {},
   "outputs": [
    {
     "data": {
      "text/html": [
       "<div>\n",
       "<style scoped>\n",
       "    .dataframe tbody tr th:only-of-type {\n",
       "        vertical-align: middle;\n",
       "    }\n",
       "\n",
       "    .dataframe tbody tr th {\n",
       "        vertical-align: top;\n",
       "    }\n",
       "\n",
       "    .dataframe thead th {\n",
       "        text-align: right;\n",
       "    }\n",
       "</style>\n",
       "<table border=\"1\" class=\"dataframe\">\n",
       "  <thead>\n",
       "    <tr style=\"text-align: right;\">\n",
       "      <th></th>\n",
       "      <th>feature</th>\n",
       "      <th>coef</th>\n",
       "      <th>standard_error</th>\n",
       "      <th>lower_bound</th>\n",
       "      <th>upper_bound</th>\n",
       "    </tr>\n",
       "  </thead>\n",
       "  <tbody>\n",
       "    <tr>\n",
       "      <th>2</th>\n",
       "      <td>trip_distance</td>\n",
       "      <td>0.145051</td>\n",
       "      <td>1.387937e-12</td>\n",
       "      <td>0.145051</td>\n",
       "      <td>0.145051</td>\n",
       "    </tr>\n",
       "    <tr>\n",
       "      <th>4</th>\n",
       "      <td>tolls_amount</td>\n",
       "      <td>0.112159</td>\n",
       "      <td>1.496352e-11</td>\n",
       "      <td>0.112159</td>\n",
       "      <td>0.112159</td>\n",
       "    </tr>\n",
       "    <tr>\n",
       "      <th>3</th>\n",
       "      <td>fare_amount</td>\n",
       "      <td>0.026220</td>\n",
       "      <td>7.700846e-15</td>\n",
       "      <td>0.026220</td>\n",
       "      <td>0.026220</td>\n",
       "    </tr>\n",
       "    <tr>\n",
       "      <th>5</th>\n",
       "      <td>trip_length_s</td>\n",
       "      <td>-0.000003</td>\n",
       "      <td>3.544142e-27</td>\n",
       "      <td>-0.000003</td>\n",
       "      <td>-0.000003</td>\n",
       "    </tr>\n",
       "  </tbody>\n",
       "</table>\n",
       "</div>"
      ],
      "text/plain": [
       "         feature      coef  standard_error  lower_bound  upper_bound\n",
       "2  trip_distance  0.145051    1.387937e-12     0.145051     0.145051\n",
       "4   tolls_amount  0.112159    1.496352e-11     0.112159     0.112159\n",
       "3    fare_amount  0.026220    7.700846e-15     0.026220     0.026220\n",
       "5  trip_length_s -0.000003    3.544142e-27    -0.000003    -0.000003"
      ]
     },
     "execution_count": 35,
     "metadata": {},
     "output_type": "execute_result"
    }
   ],
   "source": [
    "# continuous features\n",
    "coef_df.loc[coef_df.feature.isin(continuous_features)].sort_values('coef', ascending=False)[:25]"
   ]
  },
  {
   "cell_type": "code",
   "execution_count": 36,
   "metadata": {},
   "outputs": [
    {
     "data": {
      "text/html": [
       "<div>\n",
       "<style scoped>\n",
       "    .dataframe tbody tr th:only-of-type {\n",
       "        vertical-align: middle;\n",
       "    }\n",
       "\n",
       "    .dataframe tbody tr th {\n",
       "        vertical-align: top;\n",
       "    }\n",
       "\n",
       "    .dataframe thead th {\n",
       "        text-align: right;\n",
       "    }\n",
       "</style>\n",
       "<table border=\"1\" class=\"dataframe\">\n",
       "  <thead>\n",
       "    <tr style=\"text-align: right;\">\n",
       "      <th></th>\n",
       "      <th>trip_distance</th>\n",
       "      <th>fare_amount</th>\n",
       "      <th>tolls_amount</th>\n",
       "      <th>trip_length_s</th>\n",
       "    </tr>\n",
       "  </thead>\n",
       "  <tbody>\n",
       "    <tr>\n",
       "      <th>0</th>\n",
       "      <td>1.29</td>\n",
       "      <td>6.5</td>\n",
       "      <td>0.0</td>\n",
       "      <td>360</td>\n",
       "    </tr>\n",
       "    <tr>\n",
       "      <th>1</th>\n",
       "      <td>0.64</td>\n",
       "      <td>4.0</td>\n",
       "      <td>0.0</td>\n",
       "      <td>130</td>\n",
       "    </tr>\n",
       "    <tr>\n",
       "      <th>2</th>\n",
       "      <td>0.89</td>\n",
       "      <td>5.5</td>\n",
       "      <td>0.0</td>\n",
       "      <td>248</td>\n",
       "    </tr>\n",
       "    <tr>\n",
       "      <th>3</th>\n",
       "      <td>0.66</td>\n",
       "      <td>4.5</td>\n",
       "      <td>0.0</td>\n",
       "      <td>195</td>\n",
       "    </tr>\n",
       "    <tr>\n",
       "      <th>4</th>\n",
       "      <td>2.15</td>\n",
       "      <td>9.5</td>\n",
       "      <td>0.0</td>\n",
       "      <td>629</td>\n",
       "    </tr>\n",
       "    <tr>\n",
       "      <th>...</th>\n",
       "      <td>...</td>\n",
       "      <td>...</td>\n",
       "      <td>...</td>\n",
       "      <td>...</td>\n",
       "    </tr>\n",
       "    <tr>\n",
       "      <th>1224153</th>\n",
       "      <td>1.20</td>\n",
       "      <td>6.0</td>\n",
       "      <td>0.0</td>\n",
       "      <td>314</td>\n",
       "    </tr>\n",
       "    <tr>\n",
       "      <th>1224154</th>\n",
       "      <td>1.00</td>\n",
       "      <td>5.5</td>\n",
       "      <td>0.0</td>\n",
       "      <td>225</td>\n",
       "    </tr>\n",
       "    <tr>\n",
       "      <th>1224155</th>\n",
       "      <td>5.30</td>\n",
       "      <td>18.5</td>\n",
       "      <td>0.0</td>\n",
       "      <td>949</td>\n",
       "    </tr>\n",
       "    <tr>\n",
       "      <th>1224156</th>\n",
       "      <td>1.60</td>\n",
       "      <td>8.5</td>\n",
       "      <td>0.0</td>\n",
       "      <td>615</td>\n",
       "    </tr>\n",
       "    <tr>\n",
       "      <th>1224157</th>\n",
       "      <td>0.70</td>\n",
       "      <td>5.0</td>\n",
       "      <td>0.0</td>\n",
       "      <td>247</td>\n",
       "    </tr>\n",
       "  </tbody>\n",
       "</table>\n",
       "<p>1224158 rows × 4 columns</p>\n",
       "</div>"
      ],
      "text/plain": [
       "         trip_distance  fare_amount  tolls_amount  trip_length_s\n",
       "0                 1.29          6.5           0.0            360\n",
       "1                 0.64          4.0           0.0            130\n",
       "2                 0.89          5.5           0.0            248\n",
       "3                 0.66          4.5           0.0            195\n",
       "4                 2.15          9.5           0.0            629\n",
       "...                ...          ...           ...            ...\n",
       "1224153           1.20          6.0           0.0            314\n",
       "1224154           1.00          5.5           0.0            225\n",
       "1224155           5.30         18.5           0.0            949\n",
       "1224156           1.60          8.5           0.0            615\n",
       "1224157           0.70          5.0           0.0            247\n",
       "\n",
       "[1224158 rows x 4 columns]"
      ]
     },
     "execution_count": 36,
     "metadata": {},
     "output_type": "execute_result"
    }
   ],
   "source": [
    "# look at scale of continuous features (to see how big an effect the coefficients have)\n",
    "df[continuous_features]"
   ]
  },
  {
   "cell_type": "markdown",
   "metadata": {},
   "source": [
    "- This model shows which features are most (linearly) correlated with tips. Note that it only gives correlation and not causation (which would require instrumental variables to show), but we have to assume that there are enough relevant features that the error isn't too big (so the coefficient estimates are probably still meaningful even though they don't \"prove\" causation).\n",
    "    + this assumption isn't the greatest in this case (since the intercept is relatively large), but we aren't as concerned with precise estimates of causative effects in this case as we are with just getting an idea of what might lead to better tips\n",
    "- The 95% confidence intervals are very tight, so we know that the coefficient estimates are highly significant.\n",
    "- It shows that higher tolls increase tips, but that's probably just because longer-distance trips tend to have more tolls (and longer trips seem give much better tips)\n",
    "- Looking up online, it looks like the MTA tax is \\\\$0.5 if the trip starts in NYC and ends in NYC or a nearby county (so it should only be \\\\$0 if it's a long-distance trip, and the coefficient is probably just measuring the effect of the trip being long-distance)\n",
    "- The things that seem to increase the tip amount the most are:\n",
    "    + longer trip distances\n",
    "    + picking people up from location 122, 203, 218, 194, 138, 265, and 132, 19, or 219\n",
    "    + having an MTA tax of $0.5 (meaning starting in NYC and ending in NYC or Dutchess, Nassau, Orange, Putnam, Rockland, Suffolk, or Westchester counties)\n",
    "    + being a dispatch (trip_type = 2) as opposed to a street hail"
   ]
  },
  {
   "cell_type": "markdown",
   "metadata": {},
   "source": [
    "# 5. Pick one of the options below\n",
    "## (Option 1) Find an anomaly in the data and explain your findings."
   ]
  },
  {
   "cell_type": "markdown",
   "metadata": {},
   "source": [
    "As mentioned above, there are a significant number of trips with trip_distance==0."
   ]
  },
  {
   "cell_type": "code",
   "execution_count": 37,
   "metadata": {},
   "outputs": [
    {
     "name": "stdout",
     "output_type": "stream",
     "text": [
      "VendorID :\n",
      "\n",
      "2    0.80577\n",
      "1    0.19423\n",
      "Name: VendorID, dtype: float64\n",
      "\n",
      "\n",
      "2    0.799197\n",
      "1    0.200803\n",
      "Name: VendorID, dtype: float64\n",
      "\n",
      "\n",
      "store_and_fwd_flag :\n",
      "\n",
      "N    0.993282\n",
      "Y    0.006718\n",
      "Name: store_and_fwd_flag, dtype: float64\n",
      "\n",
      "\n",
      "N    0.998361\n",
      "Y    0.001639\n",
      "Name: store_and_fwd_flag, dtype: float64\n",
      "\n",
      "\n",
      "RatecodeID :\n",
      "\n",
      "1    0.549101\n",
      "5    0.402885\n",
      "2    0.035237\n",
      "3    0.011460\n",
      "4    0.000856\n",
      "6    0.000461\n",
      "Name: RatecodeID, dtype: float64\n",
      "\n",
      "\n",
      "1    0.981560\n",
      "5    0.014967\n",
      "2    0.002290\n",
      "3    0.000612\n",
      "4    0.000562\n",
      "6    0.000010\n",
      "Name: RatecodeID, dtype: float64\n",
      "\n",
      "\n",
      "extra :\n",
      "\n",
      "0       0.724495\n",
      "0.5     0.164724\n",
      "1       0.089706\n",
      "-0.5    0.009023\n",
      "4.5     0.006455\n",
      "-1      0.005006\n",
      "-4.5    0.000527\n",
      "0.22    0.000066\n",
      "0.54    0.000000\n",
      "Name: extra, dtype: float64\n",
      "\n",
      "\n",
      "0       4.553394e-01\n",
      "0.5     3.587626e-01\n",
      "1       1.843967e-01\n",
      "-0.5    7.369879e-04\n",
      "4.5     4.582394e-04\n",
      "-1      2.969458e-04\n",
      "-4.5    8.271470e-06\n",
      "0.54    8.271470e-07\n",
      "0.22    0.000000e+00\n",
      "Name: extra, dtype: float64\n",
      "\n",
      "\n",
      "mta_tax :\n",
      "\n",
      "0.5     0.524271\n",
      "0       0.450175\n",
      "-0.5    0.025555\n",
      "Name: mta_tax, dtype: float64\n",
      "\n",
      "\n",
      "0.5     0.982288\n",
      "0       0.015914\n",
      "-0.5    0.001797\n",
      "Name: mta_tax, dtype: float64\n",
      "\n",
      "\n",
      "improvement_surcharge :\n",
      "\n",
      "0.3     0.548969\n",
      "0       0.422380\n",
      "-0.3    0.028650\n",
      "Name: improvement_surcharge, dtype: float64\n",
      "\n",
      "\n",
      "0.3     0.982578\n",
      "0       0.015617\n",
      "-0.3    0.001806\n",
      "Name: improvement_surcharge, dtype: float64\n",
      "\n",
      "\n",
      "payment_type :\n",
      "\n",
      "2    0.463413\n",
      "1    0.455707\n",
      "3    0.064480\n",
      "4    0.016071\n",
      "5    0.000329\n",
      "Name: payment_type, dtype: float64\n",
      "\n",
      "\n",
      "2    0.517968\n",
      "1    0.475540\n",
      "3    0.003975\n",
      "4    0.002469\n",
      "5    0.000048\n",
      "Name: payment_type, dtype: float64\n",
      "\n",
      "\n",
      "trip_type :\n",
      "\n",
      "1    0.607192\n",
      "2    0.392808\n",
      "Name: trip_type, dtype: float64\n",
      "\n",
      "\n",
      "1    0.984963\n",
      "2    0.015037\n",
      "Name: trip_type, dtype: float64\n",
      "\n",
      "\n"
     ]
    }
   ],
   "source": [
    "# compare categorical dtype distributions\n",
    "categorical_features = [\n",
    "    'VendorID',\n",
    "    'store_and_fwd_flag',\n",
    "    'RatecodeID',\n",
    "    'extra',\n",
    "    'mta_tax',\n",
    "    'improvement_surcharge',\n",
    "    'payment_type',\n",
    "    'trip_type',\n",
    "]\n",
    "for feat in categorical_features:\n",
    "    print(feat, ':\\n')\n",
    "    print(df.loc[df.trip_distance == 0, feat].value_counts(normalize=True))\n",
    "    print('\\n')\n",
    "    print(df.loc[df.trip_distance != 0, feat].value_counts(normalize=True))\n",
    "    print('\\n')"
   ]
  },
  {
   "cell_type": "code",
   "execution_count": 38,
   "metadata": {},
   "outputs": [],
   "source": [
    "# easier to compare when looking at these aggregated in describe(), because there's too many categories\n",
    "df['PULocationID'] = df.PULocationID.astype('int')\n",
    "df['DOLocationID'] = df.DOLocationID.astype('int')"
   ]
  },
  {
   "cell_type": "code",
   "execution_count": 39,
   "metadata": {},
   "outputs": [
    {
     "data": {
      "text/html": [
       "<div>\n",
       "<style scoped>\n",
       "    .dataframe tbody tr th:only-of-type {\n",
       "        vertical-align: middle;\n",
       "    }\n",
       "\n",
       "    .dataframe tbody tr th {\n",
       "        vertical-align: top;\n",
       "    }\n",
       "\n",
       "    .dataframe thead th {\n",
       "        text-align: right;\n",
       "    }\n",
       "</style>\n",
       "<table border=\"1\" class=\"dataframe\">\n",
       "  <thead>\n",
       "    <tr style=\"text-align: right;\">\n",
       "      <th></th>\n",
       "      <th>PULocationID</th>\n",
       "      <th>DOLocationID</th>\n",
       "      <th>passenger_count</th>\n",
       "      <th>trip_distance</th>\n",
       "      <th>fare_amount</th>\n",
       "      <th>tip_amount</th>\n",
       "      <th>tolls_amount</th>\n",
       "      <th>ehail_fee</th>\n",
       "      <th>total_amount</th>\n",
       "      <th>trip_length_s</th>\n",
       "    </tr>\n",
       "  </thead>\n",
       "  <tbody>\n",
       "    <tr>\n",
       "      <th>count</th>\n",
       "      <td>15183.000000</td>\n",
       "      <td>15183.000000</td>\n",
       "      <td>15183.000000</td>\n",
       "      <td>15183.0</td>\n",
       "      <td>15183.000000</td>\n",
       "      <td>15183.000000</td>\n",
       "      <td>15183.000000</td>\n",
       "      <td>0.0</td>\n",
       "      <td>15183.000000</td>\n",
       "      <td>15183.000000</td>\n",
       "    </tr>\n",
       "    <tr>\n",
       "      <th>mean</th>\n",
       "      <td>135.707041</td>\n",
       "      <td>136.530396</td>\n",
       "      <td>1.360271</td>\n",
       "      <td>0.0</td>\n",
       "      <td>14.728584</td>\n",
       "      <td>1.260775</td>\n",
       "      <td>0.067595</td>\n",
       "      <td>NaN</td>\n",
       "      <td>16.688961</td>\n",
       "      <td>813.803925</td>\n",
       "    </tr>\n",
       "    <tr>\n",
       "      <th>std</th>\n",
       "      <td>80.898432</td>\n",
       "      <td>79.491568</td>\n",
       "      <td>0.982635</td>\n",
       "      <td>0.0</td>\n",
       "      <td>34.058060</td>\n",
       "      <td>5.508801</td>\n",
       "      <td>2.830573</td>\n",
       "      <td>NaN</td>\n",
       "      <td>34.989228</td>\n",
       "      <td>6948.109841</td>\n",
       "    </tr>\n",
       "    <tr>\n",
       "      <th>min</th>\n",
       "      <td>1.000000</td>\n",
       "      <td>1.000000</td>\n",
       "      <td>0.000000</td>\n",
       "      <td>0.0</td>\n",
       "      <td>-499.000000</td>\n",
       "      <td>-3.250000</td>\n",
       "      <td>-8.540000</td>\n",
       "      <td>NaN</td>\n",
       "      <td>-499.000000</td>\n",
       "      <td>0.000000</td>\n",
       "    </tr>\n",
       "    <tr>\n",
       "      <th>25%</th>\n",
       "      <td>65.000000</td>\n",
       "      <td>65.000000</td>\n",
       "      <td>1.000000</td>\n",
       "      <td>0.0</td>\n",
       "      <td>2.500000</td>\n",
       "      <td>0.000000</td>\n",
       "      <td>0.000000</td>\n",
       "      <td>NaN</td>\n",
       "      <td>3.800000</td>\n",
       "      <td>4.000000</td>\n",
       "    </tr>\n",
       "    <tr>\n",
       "      <th>50%</th>\n",
       "      <td>130.000000</td>\n",
       "      <td>132.000000</td>\n",
       "      <td>1.000000</td>\n",
       "      <td>0.0</td>\n",
       "      <td>7.000000</td>\n",
       "      <td>0.000000</td>\n",
       "      <td>0.000000</td>\n",
       "      <td>NaN</td>\n",
       "      <td>8.000000</td>\n",
       "      <td>16.000000</td>\n",
       "    </tr>\n",
       "    <tr>\n",
       "      <th>75%</th>\n",
       "      <td>207.000000</td>\n",
       "      <td>205.000000</td>\n",
       "      <td>1.000000</td>\n",
       "      <td>0.0</td>\n",
       "      <td>15.000000</td>\n",
       "      <td>0.000000</td>\n",
       "      <td>0.000000</td>\n",
       "      <td>NaN</td>\n",
       "      <td>17.000000</td>\n",
       "      <td>93.000000</td>\n",
       "    </tr>\n",
       "    <tr>\n",
       "      <th>max</th>\n",
       "      <td>265.000000</td>\n",
       "      <td>265.000000</td>\n",
       "      <td>9.000000</td>\n",
       "      <td>0.0</td>\n",
       "      <td>554.500000</td>\n",
       "      <td>186.700000</td>\n",
       "      <td>297.980000</td>\n",
       "      <td>NaN</td>\n",
       "      <td>556.300000</td>\n",
       "      <td>86386.000000</td>\n",
       "    </tr>\n",
       "  </tbody>\n",
       "</table>\n",
       "</div>"
      ],
      "text/plain": [
       "       PULocationID  DOLocationID  passenger_count  trip_distance  \\\n",
       "count  15183.000000  15183.000000     15183.000000        15183.0   \n",
       "mean     135.707041    136.530396         1.360271            0.0   \n",
       "std       80.898432     79.491568         0.982635            0.0   \n",
       "min        1.000000      1.000000         0.000000            0.0   \n",
       "25%       65.000000     65.000000         1.000000            0.0   \n",
       "50%      130.000000    132.000000         1.000000            0.0   \n",
       "75%      207.000000    205.000000         1.000000            0.0   \n",
       "max      265.000000    265.000000         9.000000            0.0   \n",
       "\n",
       "        fare_amount    tip_amount  tolls_amount  ehail_fee  total_amount  \\\n",
       "count  15183.000000  15183.000000  15183.000000        0.0  15183.000000   \n",
       "mean      14.728584      1.260775      0.067595        NaN     16.688961   \n",
       "std       34.058060      5.508801      2.830573        NaN     34.989228   \n",
       "min     -499.000000     -3.250000     -8.540000        NaN   -499.000000   \n",
       "25%        2.500000      0.000000      0.000000        NaN      3.800000   \n",
       "50%        7.000000      0.000000      0.000000        NaN      8.000000   \n",
       "75%       15.000000      0.000000      0.000000        NaN     17.000000   \n",
       "max      554.500000    186.700000    297.980000        NaN    556.300000   \n",
       "\n",
       "       trip_length_s  \n",
       "count   15183.000000  \n",
       "mean      813.803925  \n",
       "std      6948.109841  \n",
       "min         0.000000  \n",
       "25%         4.000000  \n",
       "50%        16.000000  \n",
       "75%        93.000000  \n",
       "max     86386.000000  "
      ]
     },
     "execution_count": 39,
     "metadata": {},
     "output_type": "execute_result"
    }
   ],
   "source": [
    "df.loc[df.trip_distance == 0].describe()"
   ]
  },
  {
   "cell_type": "code",
   "execution_count": 40,
   "metadata": {},
   "outputs": [
    {
     "data": {
      "text/html": [
       "<div>\n",
       "<style scoped>\n",
       "    .dataframe tbody tr th:only-of-type {\n",
       "        vertical-align: middle;\n",
       "    }\n",
       "\n",
       "    .dataframe tbody tr th {\n",
       "        vertical-align: top;\n",
       "    }\n",
       "\n",
       "    .dataframe thead th {\n",
       "        text-align: right;\n",
       "    }\n",
       "</style>\n",
       "<table border=\"1\" class=\"dataframe\">\n",
       "  <thead>\n",
       "    <tr style=\"text-align: right;\">\n",
       "      <th></th>\n",
       "      <th>PULocationID</th>\n",
       "      <th>DOLocationID</th>\n",
       "      <th>passenger_count</th>\n",
       "      <th>trip_distance</th>\n",
       "      <th>fare_amount</th>\n",
       "      <th>tip_amount</th>\n",
       "      <th>tolls_amount</th>\n",
       "      <th>ehail_fee</th>\n",
       "      <th>total_amount</th>\n",
       "      <th>trip_length_s</th>\n",
       "    </tr>\n",
       "  </thead>\n",
       "  <tbody>\n",
       "    <tr>\n",
       "      <th>count</th>\n",
       "      <td>1.208975e+06</td>\n",
       "      <td>1.208975e+06</td>\n",
       "      <td>1.208975e+06</td>\n",
       "      <td>1.208975e+06</td>\n",
       "      <td>1.208975e+06</td>\n",
       "      <td>1.208975e+06</td>\n",
       "      <td>1.208975e+06</td>\n",
       "      <td>0.0</td>\n",
       "      <td>1.208975e+06</td>\n",
       "      <td>1.208975e+06</td>\n",
       "    </tr>\n",
       "    <tr>\n",
       "      <th>mean</th>\n",
       "      <td>1.128899e+02</td>\n",
       "      <td>1.289927e+02</td>\n",
       "      <td>1.362474e+00</td>\n",
       "      <td>2.651060e+00</td>\n",
       "      <td>1.155431e+01</td>\n",
       "      <td>1.127130e+00</td>\n",
       "      <td>9.490597e-02</td>\n",
       "      <td>NaN</td>\n",
       "      <td>1.396524e+01</td>\n",
       "      <td>1.245351e+03</td>\n",
       "    </tr>\n",
       "    <tr>\n",
       "      <th>std</th>\n",
       "      <td>7.618181e+01</td>\n",
       "      <td>7.720037e+01</td>\n",
       "      <td>1.037588e+00</td>\n",
       "      <td>2.808248e+00</td>\n",
       "      <td>9.078865e+00</td>\n",
       "      <td>2.142987e+00</td>\n",
       "      <td>8.276616e-01</td>\n",
       "      <td>NaN</td>\n",
       "      <td>1.048513e+01</td>\n",
       "      <td>6.297716e+03</td>\n",
       "    </tr>\n",
       "    <tr>\n",
       "      <th>min</th>\n",
       "      <td>1.000000e+00</td>\n",
       "      <td>1.000000e+00</td>\n",
       "      <td>0.000000e+00</td>\n",
       "      <td>1.000000e-02</td>\n",
       "      <td>-1.500000e+02</td>\n",
       "      <td>-1.056000e+01</td>\n",
       "      <td>0.000000e+00</td>\n",
       "      <td>NaN</td>\n",
       "      <td>-1.500000e+02</td>\n",
       "      <td>0.000000e+00</td>\n",
       "    </tr>\n",
       "    <tr>\n",
       "      <th>25%</th>\n",
       "      <td>4.900000e+01</td>\n",
       "      <td>6.100000e+01</td>\n",
       "      <td>1.000000e+00</td>\n",
       "      <td>1.000000e+00</td>\n",
       "      <td>6.000000e+00</td>\n",
       "      <td>0.000000e+00</td>\n",
       "      <td>0.000000e+00</td>\n",
       "      <td>NaN</td>\n",
       "      <td>7.800000e+00</td>\n",
       "      <td>3.500000e+02</td>\n",
       "    </tr>\n",
       "    <tr>\n",
       "      <th>50%</th>\n",
       "      <td>8.200000e+01</td>\n",
       "      <td>1.290000e+02</td>\n",
       "      <td>1.000000e+00</td>\n",
       "      <td>1.710000e+00</td>\n",
       "      <td>9.000000e+00</td>\n",
       "      <td>0.000000e+00</td>\n",
       "      <td>0.000000e+00</td>\n",
       "      <td>NaN</td>\n",
       "      <td>1.080000e+01</td>\n",
       "      <td>5.830000e+02</td>\n",
       "    </tr>\n",
       "    <tr>\n",
       "      <th>75%</th>\n",
       "      <td>1.690000e+02</td>\n",
       "      <td>1.930000e+02</td>\n",
       "      <td>1.000000e+00</td>\n",
       "      <td>3.230000e+00</td>\n",
       "      <td>1.400000e+01</td>\n",
       "      <td>1.860000e+00</td>\n",
       "      <td>0.000000e+00</td>\n",
       "      <td>NaN</td>\n",
       "      <td>1.656000e+01</td>\n",
       "      <td>9.680000e+02</td>\n",
       "    </tr>\n",
       "    <tr>\n",
       "      <th>max</th>\n",
       "      <td>2.650000e+02</td>\n",
       "      <td>2.650000e+02</td>\n",
       "      <td>9.000000e+00</td>\n",
       "      <td>1.475000e+02</td>\n",
       "      <td>1.007000e+03</td>\n",
       "      <td>2.507000e+02</td>\n",
       "      <td>1.310000e+02</td>\n",
       "      <td>NaN</td>\n",
       "      <td>1.008300e+03</td>\n",
       "      <td>8.639400e+04</td>\n",
       "    </tr>\n",
       "  </tbody>\n",
       "</table>\n",
       "</div>"
      ],
      "text/plain": [
       "       PULocationID  DOLocationID  passenger_count  trip_distance  \\\n",
       "count  1.208975e+06  1.208975e+06     1.208975e+06   1.208975e+06   \n",
       "mean   1.128899e+02  1.289927e+02     1.362474e+00   2.651060e+00   \n",
       "std    7.618181e+01  7.720037e+01     1.037588e+00   2.808248e+00   \n",
       "min    1.000000e+00  1.000000e+00     0.000000e+00   1.000000e-02   \n",
       "25%    4.900000e+01  6.100000e+01     1.000000e+00   1.000000e+00   \n",
       "50%    8.200000e+01  1.290000e+02     1.000000e+00   1.710000e+00   \n",
       "75%    1.690000e+02  1.930000e+02     1.000000e+00   3.230000e+00   \n",
       "max    2.650000e+02  2.650000e+02     9.000000e+00   1.475000e+02   \n",
       "\n",
       "        fare_amount    tip_amount  tolls_amount  ehail_fee  total_amount  \\\n",
       "count  1.208975e+06  1.208975e+06  1.208975e+06        0.0  1.208975e+06   \n",
       "mean   1.155431e+01  1.127130e+00  9.490597e-02        NaN  1.396524e+01   \n",
       "std    9.078865e+00  2.142987e+00  8.276616e-01        NaN  1.048513e+01   \n",
       "min   -1.500000e+02 -1.056000e+01  0.000000e+00        NaN -1.500000e+02   \n",
       "25%    6.000000e+00  0.000000e+00  0.000000e+00        NaN  7.800000e+00   \n",
       "50%    9.000000e+00  0.000000e+00  0.000000e+00        NaN  1.080000e+01   \n",
       "75%    1.400000e+01  1.860000e+00  0.000000e+00        NaN  1.656000e+01   \n",
       "max    1.007000e+03  2.507000e+02  1.310000e+02        NaN  1.008300e+03   \n",
       "\n",
       "       trip_length_s  \n",
       "count   1.208975e+06  \n",
       "mean    1.245351e+03  \n",
       "std     6.297716e+03  \n",
       "min     0.000000e+00  \n",
       "25%     3.500000e+02  \n",
       "50%     5.830000e+02  \n",
       "75%     9.680000e+02  \n",
       "max     8.639400e+04  "
      ]
     },
     "execution_count": 40,
     "metadata": {},
     "output_type": "execute_result"
    }
   ],
   "source": [
    "df.loc[df.trip_distance != 0].describe()"
   ]
  },
  {
   "cell_type": "markdown",
   "metadata": {},
   "source": [
    "- The features that are distributed differently in the positive trip_distance dataset vs. in the 0 trip_distance dataset are:\n",
    "    + RatecodeID\n",
    "        + Almost always standard fare (1) for non-zero trip distances, but much more likely to be negotiated fare (5) for zero trip distance trips\n",
    "    + PULocationID\n",
    "    + extra\n",
    "    + mta_tax\n",
    "    + tolls_amount\n",
    "    + improvement_surcharge\n",
    "    + trip_type\n",
    "        + more likely to be dispatch (2) as opposed to street hail (1) than in the non-zero distance dataset\n",
    "So it looks like maybe the rows for which trip_distance=0 are not mistakes. My guess is that these were cases where they entered the taxi and they already started started the trip, but then the passenger changed their mind before the taxi started driving -- hence the higher likelihood of negotiated fares. Also, dispatched trips are more likely to have been canceled before they actually got into the taxi, which is another possibility for how the trip could be 0 miles."
   ]
  },
  {
   "cell_type": "code",
   "execution_count": null,
   "metadata": {},
   "outputs": [],
   "source": []
  }
 ],
 "metadata": {
  "kernelspec": {
   "display_name": "Python 3",
   "language": "python",
   "name": "python3"
  },
  "language_info": {
   "codemirror_mode": {
    "name": "ipython",
    "version": 3
   },
   "file_extension": ".py",
   "mimetype": "text/x-python",
   "name": "python",
   "nbconvert_exporter": "python",
   "pygments_lexer": "ipython3",
   "version": "3.7.3"
  }
 },
 "nbformat": 4,
 "nbformat_minor": 4
}
